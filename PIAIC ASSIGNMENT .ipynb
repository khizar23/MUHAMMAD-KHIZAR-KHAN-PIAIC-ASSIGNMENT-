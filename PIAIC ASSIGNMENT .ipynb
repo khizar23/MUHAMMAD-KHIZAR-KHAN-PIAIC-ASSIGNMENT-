{
 "cells": [
  {
   "cell_type": "markdown",
   "metadata": {},
   "source": [
    "# Variables and Strings\n",
    "\n",
    "1.Simple Message: Assign a message to a variable, and then print that message."
   ]
  },
  {
   "cell_type": "code",
   "execution_count": 2,
   "metadata": {},
   "outputs": [
    {
     "name": "stdout",
     "output_type": "stream",
     "text": [
      "You got 2nd position in the board exam\n"
     ]
    }
   ],
   "source": [
    "a = \"You got 2nd position in the board exam\"\n",
    "print(a)"
   ]
  },
  {
   "cell_type": "markdown",
   "metadata": {},
   "source": [
    " 2.Find a quote from a famous person you admire. Print the quote\n",
    "and the name of its author. Your output should look something like\n",
    "the following, including the quotation marks:"
   ]
  },
  {
   "cell_type": "code",
   "execution_count": 14,
   "metadata": {},
   "outputs": [
    {
     "name": "stdout",
     "output_type": "stream",
     "text": [
      "Wintson Churchell once said, \"SUCCESS IS NOT FINAL;\n",
      "\t\t\t      FAILURE IS NOT FATAL;\n",
      "\t\t\t      IT IS THE COURAGE TO CONTINUE THAT COUNTS\"\n"
     ]
    }
   ],
   "source": [
    "quote = 'Wintson Churchell once said, \"SUCCESS IS NOT FINAL;\\n\\t\\t\\t      FAILURE IS NOT FATAL;\\n\\t\\t\\t      IT IS THE COURAGE TO CONTINUE THAT COUNTS\"'\n",
    "print(quote)"
   ]
  },
  {
   "cell_type": "markdown",
   "metadata": {},
   "source": [
    "# Calculate Area of a Circle::"
   ]
  },
  {
   "cell_type": "code",
   "execution_count": 21,
   "metadata": {},
   "outputs": [
    {
     "name": "stdout",
     "output_type": "stream",
     "text": [
      "Enter radius of circle : 0.5\n",
      "AREA OF CIRCLE :  0.7855\n"
     ]
    }
   ],
   "source": [
    "r = float(input(\"Enter radius of circle : \"))\n",
    "area = (3.142*r**2)\n",
    "print(\"AREA OF CIRCLE : \",area)"
   ]
  },
  {
   "cell_type": "markdown",
   "metadata": {},
   "source": [
    "# 1.Check Number either positive, negative or zero::\n"
   ]
  },
  {
   "cell_type": "code",
   "execution_count": 24,
   "metadata": {},
   "outputs": [
    {
     "name": "stdout",
     "output_type": "stream",
     "text": [
      "Enter any number : -2\n",
      "NEGATIVE NUMBER IS ENTERED\n"
     ]
    }
   ],
   "source": [
    "num = float(input(\"Enter any number : \"))\n",
    "if num==0:\n",
    "    print(\"ZERO IS ENTERED\")\n",
    "elif num<0:\n",
    "    print(\"NEGATIVE NUMBER IS ENTERED\")\n",
    "elif num>0:\n",
    "    print(\"POSITIVE NUMBER IS ENTERED\")\n"
   ]
  },
  {
   "cell_type": "markdown",
   "metadata": {},
   "source": [
    "# Vowel Tester\n",
    "Write a Python program to test whether a passed letter is a vowel or not"
   ]
  },
  {
   "cell_type": "code",
   "execution_count": 25,
   "metadata": {},
   "outputs": [
    {
     "name": "stdout",
     "output_type": "stream",
     "text": [
      "Enter any alphabetA\n",
      "Letter A is a Vowel\n"
     ]
    }
   ],
   "source": [
    "z = input(\"Enter any alphabet\")\n",
    "vowel = [\"A\",\"a\",\"E\",\"e\",\"I\",\"i\",\"O\",\"o\",\"U\",\"u\"]\n",
    "if z in vowel:\n",
    "    print(\"Letter\", z ,\"is a Vowel\")\n",
    "else:\n",
    "    print(\"Letter\", z ,\"is not a Vowel\")"
   ]
  },
  {
   "cell_type": "markdown",
   "metadata": {},
   "source": [
    "# BMI Calculator"
   ]
  },
  {
   "cell_type": "code",
   "execution_count": 29,
   "metadata": {},
   "outputs": [
    {
     "name": "stdout",
     "output_type": "stream",
     "text": [
      "Enter your  Height in Cm:180\n",
      "Enter your weight in Kg:75\n",
      "Your BMI is  23.148148148148145\n"
     ]
    }
   ],
   "source": [
    "height_in_cm= float(input(\"Enter your  Height in Cm:\"))\n",
    "weight= float(input(\"Enter your weight in Kg:\"))\n",
    "height_in_m= height_in_cm/100\n",
    "bmi = (weight/height_in_m**2)\n",
    "print(\"Your BMI is \",bmi)"
   ]
  },
  {
   "cell_type": "markdown",
   "metadata": {},
   "source": [
    "# Store the names of a few of your friends in a list called names"
   ]
  },
  {
   "cell_type": "code",
   "execution_count": 30,
   "metadata": {},
   "outputs": [
    {
     "name": "stdout",
     "output_type": "stream",
     "text": [
      "Ali\n",
      "Raees\n",
      "Tariq\n",
      "Waiz\n"
     ]
    }
   ],
   "source": [
    "names =(\"Ali\",\"Raees\",\"Tariq\",\"Waiz\")\n",
    "print(names[0])\n",
    "print(names[1])\n",
    "print(names[2])\n",
    "print(names[3])"
   ]
  },
  {
   "cell_type": "code",
   "execution_count": 31,
   "metadata": {},
   "outputs": [
    {
     "name": "stdout",
     "output_type": "stream",
     "text": [
      "Ali Pass the exam\n",
      "Raees Pass the exam\n",
      "Tariq Pass the exam\n",
      "Waiz Pass the exam\n"
     ]
    }
   ],
   "source": [
    "names =(\"Ali\",\"Raees\",\"Tariq\",\"Waiz\")\n",
    "print(names[0],\"Pass the exam\")\n",
    "print(names[1],\"Pass the exam\")\n",
    "print(names[2],\"Pass the exam\")\n",
    "print(names[3],\"Pass the exam\")"
   ]
  },
  {
   "cell_type": "markdown",
   "metadata": {},
   "source": [
    "# Make a python program that conatains your nine favourite dishes in a list called foods. "
   ]
  },
  {
   "cell_type": "code",
   "execution_count": 33,
   "metadata": {},
   "outputs": [
    {
     "name": "stdout",
     "output_type": "stream",
     "text": [
      "The first three favourite dishes in my list are ['biryani', 'burger', 'broast']\n",
      "The middle three favourite dishes in my list are ['nihari', 'pasta', 'grilled fish ']\n",
      "The last three favourite dishes in my list are ['mutton karahi', 'saaji', 'pulao']\n"
     ]
    }
   ],
   "source": [
    "foods = ['biryani','burger','broast','nihari','pasta','grilled fish ','mutton karahi','saaji','pulao']\n",
    "print('The first three favourite dishes in my list are',foods[0:3])\n",
    "print('The middle three favourite dishes in my list are',foods[3:6])\n",
    "print('The last three favourite dishes in my list are',foods[6:])"
   ]
  },
  {
   "cell_type": "code",
   "execution_count": 39,
   "metadata": {},
   "outputs": [
    {
     "name": "stdout",
     "output_type": "stream",
     "text": [
      "['biryani', 'burger', 'broast', 'nihari', 'pasta', 'grilled fish ', 'mutton karahi', 'saaji', 'pulao', 'shami kabab']\n",
      "['biryani', 'burger', 'broast', 'nihari', 'pasta', 'grilled fish ', 'mutton karahi', 'saaji', 'pulao', 'gol gappay']\n",
      "My favirate foods are : \n",
      "biryani\n",
      "burger\n",
      "broast\n",
      "nihari\n",
      "pasta\n",
      "grilled fish \n",
      "mutton karahi\n",
      "saaji\n",
      "pulao\n",
      "shami kabab\n",
      "My favirate pizzas are : \n",
      "biryani\n",
      "burger\n",
      "broast\n",
      "nihari\n",
      "pasta\n",
      "grilled fish \n",
      "mutton karahi\n",
      "saaji\n",
      "pulao\n",
      "gol gappay\n"
     ]
    }
   ],
   "source": [
    "foods = ['biryani','burger','broast','nihari','pasta','grilled fish ','mutton karahi','saaji','pulao']\n",
    "friends_food = foods[0:9]\n",
    "foods.append(\"shami kabab\")\n",
    "friends_food.append(\"gol gappay\")\n",
    "print(foods)\n",
    "print(friends_food)\n",
    "print(\"My favirate foods are : \")\n",
    "for items in foods:\n",
    "    print(items)\n",
    "print(\"My favirate pizzas are : \")\n",
    "for items in friends_food:\n",
    "    print(items)\n"
   ]
  },
  {
   "cell_type": "code",
   "execution_count": null,
   "metadata": {},
   "outputs": [],
   "source": []
  }
 ],
 "metadata": {
  "kernelspec": {
   "display_name": "Python 3",
   "language": "python",
   "name": "python3"
  },
  "language_info": {
   "codemirror_mode": {
    "name": "ipython",
    "version": 3
   },
   "file_extension": ".py",
   "mimetype": "text/x-python",
   "name": "python",
   "nbconvert_exporter": "python",
   "pygments_lexer": "ipython3",
   "version": "3.8.5"
  }
 },
 "nbformat": 4,
 "nbformat_minor": 4
}
